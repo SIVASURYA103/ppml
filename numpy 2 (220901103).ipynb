{
 "cells": [
  {
   "cell_type": "code",
   "execution_count": 11,
   "id": "09796636",
   "metadata": {},
   "outputs": [
    {
     "name": "stdout",
     "output_type": "stream",
     "text": [
      "original siva:\n",
      " [[-1.   2.   0.   4. ]\n",
      " [ 4.  -0.5  6.   0. ]\n",
      " [ 2.6  0.   7.   8. ]\n",
      " [ 3.  -7.   4.   2. ]]\n",
      "\n",
      "Every other rows:arr[0:3:2]:\n",
      " [[-1.   2.   0.   4. ]\n",
      " [ 2.6  0.   7.   8. ]]\n",
      "\n",
      "Array with first 2 rows and 3 columns[:2,:3]:\n",
      " [[-1.   2.   0. ]\n",
      " [ 4.  -0.5  6. ]]\n",
      "\n",
      "Elements at indices(0,3),(1,2),(2,1),(3,0):\n",
      " [4. 6. 0. 3.]\n",
      "\n",
      "Elements greater than 2:\n",
      " [4.  4.  6.  2.6 7.  8.  3.  4. ]\n",
      "\n",
      "Original array: [1 2 3 4 5 6 7]\n",
      "\n",
      "Returns every other elements in the array:a[::2]: [1 3 5 7]\n"
     ]
    }
   ],
   "source": [
    "import numpy as siva\n",
    "a=siva.array([[-1,2,0,4],[4,-0.5,6,0],[2.6,0,7,8],[3,-7,4,2.0]])\n",
    "print(\"original siva:\\n\",a)\n",
    "print(\"\\nEvery other rows:arr[0:3:2]:\\n\",a[0:3:2])\n",
    "temp=a[:2,:3]\n",
    "print(\"\\nArray with first 2 rows and 3 columns[:2,:3]:\\n\",temp)\n",
    "temp=a[[0,1,2,3],[3,2,1,0]]\n",
    "print(\"\\nElements at indices(0,3),(1,2),(2,1),\"\"(3,0):\\n\",temp)\n",
    "cond=a>2\n",
    "temp=a[cond]\n",
    "print(\"\\nElements greater than 2:\\n\",temp)\n",
    "a=siva.array([1,2,3,4,5,6,7])\n",
    "print(\"\\nOriginal array:\",a)\n",
    "print(\"\\nReturns every other elements in the array:a[::2]:\",a[::2])"
   ]
  },
  {
   "cell_type": "code",
   "execution_count": 15,
   "id": "f3056252",
   "metadata": {},
   "outputs": [
    {
     "name": "stdout",
     "output_type": "stream",
     "text": [
      "\n",
      "Original arrays:\n",
      " [1 2 3] [4 5 6]\n",
      "\n",
      "joined array:\n",
      " [1 2 3 4 5 6]\n",
      "\n",
      "Horizondal joining:\n",
      " [1 2 3 4 5 6]\n",
      "\n",
      "Vertical joining:\n",
      " [[1 2 3]\n",
      " [4 5 6]]\n",
      "\n",
      "Depth joining:\n",
      " [[[1 4]\n",
      "  [2 5]\n",
      "  [3 6]]]\n",
      "\n",
      "Original Array:\n",
      " [1 2 3 4 5 6]\n",
      "\n",
      "splitted array:\n",
      " [array([1, 2]), array([3, 4]), array([5, 6])]\n"
     ]
    }
   ],
   "source": [
    "arr1=siva.array([1,2,3])\n",
    "arr2=siva.array([4,5,6])\n",
    "a=siva.concatenate((arr1,arr2))\n",
    "print(\"\\nOriginal arrays:\\n\",arr1,arr2)\n",
    "print(\"\\njoined array:\\n\",a)\n",
    "a=siva.hstack((arr1,arr2))\n",
    "print(\"\\nHorizondal joining:\\n\",a)\n",
    "a=siva.vstack((arr1,arr2))\n",
    "print(\"\\nVertical joining:\\n\",a)\n",
    "a=siva.dstack((arr1,arr2))\n",
    "print(\"\\nDepth joining:\\n\",a)\n",
    "a=siva.array([1,2,3,4,5,6])\n",
    "newarr=siva.array_split(a,3)\n",
    "print(\"\\nOriginal Array:\\n\",a)\n",
    "print(\"\\nsplitted array:\\n\",newarr)\n"
   ]
  },
  {
   "cell_type": "code",
   "execution_count": 16,
   "id": "5a893e0e",
   "metadata": {},
   "outputs": [
    {
     "name": "stdout",
     "output_type": "stream",
     "text": [
      "\n",
      "Splitted array in another form:\n",
      "\n",
      "[1 2]\n",
      "[3 4]\n",
      "[5 6]\n"
     ]
    }
   ],
   "source": [
    "print(\"\\nSplitted array in another form:\\n\")\n",
    "print(newarr[0])\n",
    "print(newarr[1])\n",
    "print(newarr[2])"
   ]
  },
  {
   "cell_type": "code",
   "execution_count": null,
   "id": "8da76771",
   "metadata": {},
   "outputs": [],
   "source": []
  }
 ],
 "metadata": {
  "kernelspec": {
   "display_name": "Python 3 (ipykernel)",
   "language": "python",
   "name": "python3"
  },
  "language_info": {
   "codemirror_mode": {
    "name": "ipython",
    "version": 3
   },
   "file_extension": ".py",
   "mimetype": "text/x-python",
   "name": "python",
   "nbconvert_exporter": "python",
   "pygments_lexer": "ipython3",
   "version": "3.9.12"
  }
 },
 "nbformat": 4,
 "nbformat_minor": 5
}
