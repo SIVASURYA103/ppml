{
 "cells": [
  {
   "cell_type": "code",
   "execution_count": 1,
   "id": "66f087dc",
   "metadata": {},
   "outputs": [
    {
     "name": "stdout",
     "output_type": "stream",
     "text": [
      "Original array: [1 2 3 4 5 4 4]\n",
      "\n",
      "indexes where the value is 4: (array([3, 5, 6], dtype=int64),)\n"
     ]
    }
   ],
   "source": [
    "import numpy as siva\n",
    "a=siva.array([1,2,3,4,5,4,4])\n",
    "print(\"Original array:\",a)\n",
    "x=siva.where(a==4)\n",
    "print(\"\\nindexes where the value is 4:\",x)\n"
   ]
  },
  {
   "cell_type": "code",
   "execution_count": 3,
   "id": "c2aeb820",
   "metadata": {},
   "outputs": [
    {
     "name": "stdout",
     "output_type": "stream",
     "text": [
      "\n",
      "Original array: [1 2 3 4 5 6 7 8]\n",
      "\n",
      "indexes where the values are even: (array([1, 3, 5, 7], dtype=int64),)\n"
     ]
    }
   ],
   "source": [
    "a=siva.array([1,2,3,4,5,6,7,8])\n",
    "x=siva.where(a%2==0)\n",
    "print(\"\\nOriginal array:\",a)\n",
    "print(\"\\nindexes where the values are even:\",x)"
   ]
  },
  {
   "cell_type": "code",
   "execution_count": 4,
   "id": "9ff7cc72",
   "metadata": {},
   "outputs": [
    {
     "name": "stdout",
     "output_type": "stream",
     "text": [
      "\n",
      "indexes where the value 3 should inserted,starting from the right: 2\n"
     ]
    }
   ],
   "source": [
    "x=siva.searchsorted(a,3,side='left')\n",
    "print(\"\\nindexes where the value 3 should inserted,starting from the right:\",x)"
   ]
  },
  {
   "cell_type": "code",
   "execution_count": 11,
   "id": "7bf00e35",
   "metadata": {},
   "outputs": [
    {
     "name": "stdout",
     "output_type": "stream",
     "text": [
      "\n",
      "Original arry: [3 4 5 6]\n",
      "\n",
      "sorted array: [3 4 5 6]\n",
      "\n",
      "Original array: [[3 2 4]\n",
      " [5 0 1]]\n",
      "\n",
      "Sorted array: [[2 3 4]\n",
      " [0 1 5]]\n"
     ]
    }
   ],
   "source": [
    "a=siva.array([3,4,5,6])\n",
    "print(\"\\nOriginal arry:\",a)\n",
    "print(\"\\nsorted array:\",siva.sort(a))\n",
    "a=siva.array([[3,2,4],[5,0,1]])\n",
    "print(\"\\nOriginal array:\",a)\n",
    "print(\"\\nSorted array:\",siva.sort(a))"
   ]
  },
  {
   "cell_type": "code",
   "execution_count": 13,
   "id": "4e79ad2f",
   "metadata": {},
   "outputs": [
    {
     "name": "stdout",
     "output_type": "stream",
     "text": [
      "\n",
      "Original array: [41 42 43 44]\n",
      "\n",
      "Filter index: [True, False, True, False]\n",
      "\n",
      "Filter array: [41 43]\n"
     ]
    }
   ],
   "source": [
    "a=siva.array([41,42,43,44])\n",
    "x=[True,False,True,False]\n",
    "newarr=a[x]\n",
    "print(\"\\nOriginal array:\",a)\n",
    "print(\"\\nFilter index:\",x)\n",
    "print(\"\\nFilter array:\",newarr)"
   ]
  },
  {
   "cell_type": "code",
   "execution_count": 14,
   "id": "3a0c5137",
   "metadata": {},
   "outputs": [
    {
     "name": "stdout",
     "output_type": "stream",
     "text": [
      "\n",
      "Original array: [41 42 43 44]\n",
      "\n",
      "Filter array:condition->42: [False False  True  True]\n",
      "\n",
      "New array: [43 44]\n"
     ]
    }
   ],
   "source": [
    "a=siva.array([41,42,43,44])\n",
    "filter_a=a>42\n",
    "newarr=a[filter_a]\n",
    "print(\"\\nOriginal array:\",a)\n",
    "print(\"\\nFilter array:condition->42:\",filter_a)\n",
    "print(\"\\nNew array:\",newarr)"
   ]
  },
  {
   "cell_type": "code",
   "execution_count": null,
   "id": "488b9f56",
   "metadata": {},
   "outputs": [],
   "source": []
  }
 ],
 "metadata": {
  "kernelspec": {
   "display_name": "Python 3 (ipykernel)",
   "language": "python",
   "name": "python3"
  },
  "language_info": {
   "codemirror_mode": {
    "name": "ipython",
    "version": 3
   },
   "file_extension": ".py",
   "mimetype": "text/x-python",
   "name": "python",
   "nbconvert_exporter": "python",
   "pygments_lexer": "ipython3",
   "version": "3.9.12"
  }
 },
 "nbformat": 4,
 "nbformat_minor": 5
}
