{
 "cells": [
  {
   "cell_type": "code",
   "execution_count": 1,
   "id": "a92a5fc1",
   "metadata": {},
   "outputs": [
    {
     "ename": "SyntaxError",
     "evalue": "invalid syntax (numpy.py, line 1)",
     "output_type": "error",
     "traceback": [
      "Traceback \u001b[1;36m(most recent call last)\u001b[0m:\n",
      "  File \u001b[0;32m~\\anaconda3\\lib\\site-packages\\IPython\\core\\interactiveshell.py:3369\u001b[0m in \u001b[0;35mrun_code\u001b[0m\n    exec(code_obj, self.user_global_ns, self.user_ns)\n",
      "\u001b[1;36m  Input \u001b[1;32mIn [1]\u001b[1;36m in \u001b[1;35m<cell line: 1>\u001b[1;36m\u001b[0m\n\u001b[1;33m    import numpy as np\u001b[0m\n",
      "\u001b[1;36m  File \u001b[1;32m~\\Downloads\\numpy.py:1\u001b[1;36m\u001b[0m\n\u001b[1;33m    <!DOCTYPE html>\u001b[0m\n\u001b[1;37m    ^\u001b[0m\n\u001b[1;31mSyntaxError\u001b[0m\u001b[1;31m:\u001b[0m invalid syntax\n"
     ]
    }
   ],
   "source": [
    "import numpy as np\n",
    "import pandas as pd"
   ]
  },
  {
   "cell_type": "code",
   "execution_count": 7,
   "id": "f9d8946e",
   "metadata": {},
   "outputs": [
    {
     "name": "stdout",
     "output_type": "stream",
     "text": [
      "        one       two     three\n",
      "a  0.224663  1.696914 -0.627765\n",
      "c  0.104155 -2.594573  0.091704\n",
      "e  0.143833 -0.824764 -0.127789\n",
      "f  1.038012 -1.278495 -0.830159\n",
      "h  0.595367  0.194128  0.959729\n"
     ]
    }
   ],
   "source": [
    "df=pd.DataFrame(np.random.randn(5,3),index=['a','c','e','f','h'],columns=['one','two','three'])\n",
    "print(df)"
   ]
  },
  {
   "cell_type": "code",
   "execution_count": 8,
   "id": "3ffa13ff",
   "metadata": {},
   "outputs": [],
   "source": [
    "df=df.reindex(['a','b','c','e','f','g','h'])"
   ]
  },
  {
   "cell_type": "code",
   "execution_count": 9,
   "id": "b487b824",
   "metadata": {},
   "outputs": [
    {
     "name": "stdout",
     "output_type": "stream",
     "text": [
      "        one       two     three\n",
      "a  0.224663  1.696914 -0.627765\n",
      "b       NaN       NaN       NaN\n",
      "c  0.104155 -2.594573  0.091704\n",
      "e  0.143833 -0.824764 -0.127789\n",
      "f  1.038012 -1.278495 -0.830159\n",
      "g       NaN       NaN       NaN\n",
      "h  0.595367  0.194128  0.959729\n"
     ]
    }
   ],
   "source": [
    "print(df)"
   ]
  },
  {
   "cell_type": "code",
   "execution_count": 10,
   "id": "04f24d10",
   "metadata": {},
   "outputs": [
    {
     "name": "stdout",
     "output_type": "stream",
     "text": [
      "        one       two     three\n",
      "a  0.224663  1.696914 -0.627765\n",
      "c  0.104155 -2.594573  0.091704\n",
      "e  0.143833 -0.824764 -0.127789\n",
      "f  1.038012 -1.278495 -0.830159\n",
      "h  0.595367  0.194128  0.959729\n"
     ]
    }
   ],
   "source": [
    "print(df.dropna())"
   ]
  },
  {
   "cell_type": "code",
   "execution_count": 11,
   "id": "d6759f02",
   "metadata": {},
   "outputs": [
    {
     "name": "stdout",
     "output_type": "stream",
     "text": [
      "        one       two     three\n",
      "a -1.782587  0.415224 -0.298517\n",
      "b       NaN       NaN       NaN\n",
      "c -0.343027 -1.430390 -0.197006\n",
      "        one       two     three\n",
      "a -1.782587  0.415224 -0.298517\n",
      "b  0.000000  0.000000  0.000000\n",
      "c -0.343027 -1.430390 -0.197006\n"
     ]
    }
   ],
   "source": [
    "df=pd.DataFrame(np.random.randn(3,3),index=['a','c','e'],columns=['one','two','three'])\n",
    "df=df.reindex(['a','b','c'])\n",
    "print(df)\n",
    "print(df.fillna(0))"
   ]
  },
  {
   "cell_type": "code",
   "execution_count": 12,
   "id": "69cc1c89",
   "metadata": {},
   "outputs": [
    {
     "name": "stdout",
     "output_type": "stream",
     "text": [
      "    one   two\n",
      "0    10  1000\n",
      "1    20     0\n",
      "2    30    30\n",
      "3    40    40\n",
      "4    50    50\n",
      "5  2000    60\n",
      "   one  two\n",
      "0   10   10\n",
      "1   20  100\n",
      "2   30   30\n",
      "3  400  400\n",
      "4   50   50\n",
      "5   60   60\n"
     ]
    }
   ],
   "source": [
    "df=pd.DataFrame({'one':[10,20,30,40,50,2000],'two':[1000,0,30,40,50,60]})\n",
    "print(df)\n",
    "print(df.replace({1000:10,2000:60,40:400,0:100}))"
   ]
  },
  {
   "cell_type": "code",
   "execution_count": 14,
   "id": "491e9f42",
   "metadata": {},
   "outputs": [
    {
     "name": "stdout",
     "output_type": "stream",
     "text": [
      "        one       two     three\n",
      "a -0.533045 -0.319729 -0.451520\n",
      "b       NaN       NaN       NaN\n",
      "c  0.463519 -0.283568 -0.239459\n",
      "e -0.318743 -0.081553  0.323701\n",
      "f -0.618851  1.318064  0.390134\n",
      "g       NaN       NaN       NaN\n",
      "h  1.599566 -0.964653 -0.734928\n",
      "a    False\n",
      "b     True\n",
      "c    False\n",
      "e    False\n",
      "f    False\n",
      "g     True\n",
      "h    False\n",
      "Name: one, dtype: bool\n"
     ]
    }
   ],
   "source": [
    "df=pd.DataFrame(np.random.randn(5,3),index=['a','c','e','f','h'],columns=['one','two','three'])\n",
    "df=df.reindex(['a','b','c','e','f','g','h'])\n",
    "print(df)\n",
    "print(df['one'].isnull())"
   ]
  },
  {
   "cell_type": "code",
   "execution_count": 17,
   "id": "a1287f49",
   "metadata": {},
   "outputs": [
    {
     "name": "stdout",
     "output_type": "stream",
     "text": [
      "        one       two     three\n",
      "a  1.163365 -0.227403  0.333407\n",
      "b       NaN       NaN       NaN\n",
      "c  0.775986 -0.838358 -0.060271\n",
      "e  0.876155 -0.100837  0.671502\n",
      "f -0.211073 -1.369292  0.868607\n",
      "g       NaN       NaN       NaN\n",
      "h -0.821985 -1.125713 -1.131654\n",
      "        one       two     three\n",
      "a  1.163365 -0.227403  0.333407\n",
      "b  1.163365 -0.227403  0.333407\n",
      "c  0.775986 -0.838358 -0.060271\n",
      "e  0.876155 -0.100837  0.671502\n",
      "f -0.211073 -1.369292  0.868607\n",
      "g -0.211073 -1.369292  0.868607\n",
      "h -0.821985 -1.125713 -1.131654\n",
      "        one       two     three\n",
      "a  1.163365 -0.227403  0.333407\n",
      "b  0.775986 -0.838358 -0.060271\n",
      "c  0.775986 -0.838358 -0.060271\n",
      "e  0.876155 -0.100837  0.671502\n",
      "f -0.211073 -1.369292  0.868607\n",
      "g -0.821985 -1.125713 -1.131654\n",
      "h -0.821985 -1.125713 -1.131654\n"
     ]
    }
   ],
   "source": [
    "df=pd.DataFrame(np.random.randn(5,3),index=['a','c','e','f','h'],columns=['one','two','three'])\n",
    "df=df.reindex(['a','b','c','e','f','g','h'])\n",
    "print(df)\n",
    "print(df.fillna(method='pad'))\n",
    "print(df.fillna(method='bfill'))"
   ]
  },
  {
   "cell_type": "code",
   "execution_count": null,
   "id": "6e5450e2",
   "metadata": {},
   "outputs": [],
   "source": []
  }
 ],
 "metadata": {
  "kernelspec": {
   "display_name": "Python 3 (ipykernel)",
   "language": "python",
   "name": "python3"
  },
  "language_info": {
   "codemirror_mode": {
    "name": "ipython",
    "version": 3
   },
   "file_extension": ".py",
   "mimetype": "text/x-python",
   "name": "python",
   "nbconvert_exporter": "python",
   "pygments_lexer": "ipython3",
   "version": "3.9.12"
  }
 },
 "nbformat": 4,
 "nbformat_minor": 5
}
