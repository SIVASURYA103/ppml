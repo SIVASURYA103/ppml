{
 "cells": [
  {
   "cell_type": "code",
   "execution_count": 16,
   "id": "34ccd9f0",
   "metadata": {},
   "outputs": [
    {
     "name": "stdout",
     "output_type": "stream",
     "text": [
      "[[ 1  2  3  4]\n",
      " [ 5  6  7  8]\n",
      " [ 9 10 11 12]]\n",
      "The Element in array is [[0. 0. 0. 0.]\n",
      " [0. 0. 0. 0.]\n",
      " [0. 0. 0. 0.]]\n",
      "[[7 7 7]\n",
      " [7 7 7]\n",
      " [7 7 7]]\n",
      "[[0.27619398 0.13012787]\n",
      " [0.43503727 0.54310742]]\n",
      "[0 2 4 6 8]\n",
      "[[1 2 3 4]\n",
      " [5 6 7 8]\n",
      " [2 4 6 7]]\n",
      "[[1 2 3]\n",
      " [4 5 6]\n",
      " [7 8 2]\n",
      " [4 6 7]]\n",
      "[[1. 2. 3. 4.]\n",
      " [5. 6. 7. 8.]\n",
      " [2. 4. 6. 7.]]\n"
     ]
    }
   ],
   "source": [
    "import numpy as siva\n",
    "a=siva.array([[1,2,3,4],[5,6,7,8],[9,10,11,12]])\n",
    "print(a)\n",
    "b=siva.zeros((3,4))\n",
    "print(\"The Element in array is\",b)\n",
    "c=siva.full((3,3),7)\n",
    "print(c)\n",
    "d=siva.random.random((2,2))\n",
    "print(d)\n",
    "e=siva.arange(0,10,2)\n",
    "print(e)\n",
    "f=siva.array([[1,2,3,4],[5,6,7,8],[2,4,6,7]])\n",
    "g=f.reshape(4,3)\n",
    "print(f)\n",
    "print(g)\n",
    "h=f.astype('f')\n",
    "print(h)"
   ]
  },
  {
   "cell_type": "code",
   "execution_count": 17,
   "id": "168c3e0a",
   "metadata": {
    "scrolled": true
   },
   "outputs": [
    {
     "name": "stdout",
     "output_type": "stream",
     "text": [
      "[[0. 0. 0. 0.]\n",
      " [1. 1. 1. 1.]\n",
      " [2. 2. 2. 2.]\n",
      " [3. 3. 3. 3.]\n",
      " [4. 4. 4. 4.]\n",
      " [5. 5. 5. 5.]\n",
      " [6. 6. 6. 6.]\n",
      " [7. 7. 7. 7.]]\n",
      "[[1. 1. 1. 1.]\n",
      " [2. 2. 2. 2.]\n",
      " [3. 3. 3. 3.]\n",
      " [4. 4. 4. 4.]]\n",
      "[[6. 6. 6. 6.]\n",
      " [5. 5. 5. 5.]\n",
      " [4. 4. 4. 4.]]\n"
     ]
    }
   ],
   "source": [
    "a=siva.empty((8,4))\n",
    "for i in range (8):\n",
    "    a[i]=i\n",
    "print (a)\n",
    "print (a[[1,2,3,4]])\n",
    "print (a[[-2,-3,-4]])"
   ]
  },
  {
   "cell_type": "code",
   "execution_count": 6,
   "id": "3edeeff7",
   "metadata": {},
   "outputs": [
    {
     "name": "stdout",
     "output_type": "stream",
     "text": [
      "[[-1.   2.   0.   4. ]\n",
      " [ 4.   0.5  6.   0. ]\n",
      " [ 2.6  0.   7.   8. ]\n",
      " [ 3.  -7.   4.   2. ]]\n"
     ]
    }
   ],
   "source": [
    "import numpy as surya\n",
    "a=surya.array([[-1,2,0,4],[4,0.5,6,0],[2.6,0,7,8],[3,-7,4,2.0]])\n",
    "print(a)"
   ]
  },
  {
   "cell_type": "code",
   "execution_count": null,
   "id": "20685c95",
   "metadata": {},
   "outputs": [],
   "source": []
  },
  {
   "cell_type": "code",
   "execution_count": null,
   "id": "6ea6496d",
   "metadata": {},
   "outputs": [],
   "source": []
  },
  {
   "cell_type": "code",
   "execution_count": null,
   "id": "5af41f4c",
   "metadata": {},
   "outputs": [],
   "source": []
  }
 ],
 "metadata": {
  "kernelspec": {
   "display_name": "Python 3 (ipykernel)",
   "language": "python",
   "name": "python3"
  },
  "language_info": {
   "codemirror_mode": {
    "name": "ipython",
    "version": 3
   },
   "file_extension": ".py",
   "mimetype": "text/x-python",
   "name": "python",
   "nbconvert_exporter": "python",
   "pygments_lexer": "ipython3",
   "version": "3.9.12"
  }
 },
 "nbformat": 4,
 "nbformat_minor": 5
}
